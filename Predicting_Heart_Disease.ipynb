{
  "nbformat": 4,
  "nbformat_minor": 0,
  "metadata": {
    "colab": {
      "name": "Predicting Heart Disease.ipynb",
      "provenance": [],
      "collapsed_sections": [],
      "authorship_tag": "ABX9TyO2STx3DXhcEvd4V/wFUbhr",
      "include_colab_link": true
    },
    "kernelspec": {
      "name": "python3",
      "display_name": "Python 3"
    }
  },
  "cells": [
    {
      "cell_type": "markdown",
      "metadata": {
        "id": "view-in-github",
        "colab_type": "text"
      },
      "source": [
        "<a href=\"https://colab.research.google.com/github/gaganmathur99/Heart-Disease-Prediction/blob/master/Predicting_Heart_Disease.ipynb\" target=\"_parent\"><img src=\"https://colab.research.google.com/assets/colab-badge.svg\" alt=\"Open In Colab\"/></a>"
      ]
    },
    {
      "cell_type": "code",
      "metadata": {
        "id": "vY-UGNG28li-",
        "colab_type": "code",
        "colab": {}
      },
      "source": [
        "# Basic\n",
        "import numpy as np\n",
        "import pandas as pd\n",
        "import matplotlib.pyplot as plt\n",
        "from matplotlib import rcParams\n",
        "from matplotlib.cm import rainbow\n",
        "import warnings\n",
        "warnings.filterwarnings('ignore')\n",
        "\n",
        "# Other libraries\n",
        "from sklearn.model_selection import train_test_split\n",
        "from sklearn.preprocessing import StandardScaler\n"
      ],
      "execution_count": 0,
      "outputs": []
    },
    {
      "cell_type": "code",
      "metadata": {
        "id": "JrfVeNq383o_",
        "colab_type": "code",
        "colab": {}
      },
      "source": [
        "url=\"https://raw.githubusercontent.com/gaganmathur99/Heart-Disease-Prediction/master/heart.csv\""
      ],
      "execution_count": 0,
      "outputs": []
    },
    {
      "cell_type": "code",
      "metadata": {
        "id": "GISOoc9U8_3z",
        "colab_type": "code",
        "colab": {}
      },
      "source": [
        "data = pd.read_csv(url)"
      ],
      "execution_count": 0,
      "outputs": []
    },
    {
      "cell_type": "code",
      "metadata": {
        "id": "c7b8U8UK9cdz",
        "colab_type": "code",
        "colab": {
          "base_uri": "https://localhost:8080/",
          "height": 197
        },
        "outputId": "2ee61a6b-1425-426d-dc38-e9011a667b0d"
      },
      "source": [
        "data.head()"
      ],
      "execution_count": 270,
      "outputs": [
        {
          "output_type": "execute_result",
          "data": {
            "text/html": [
              "<div>\n",
              "<style scoped>\n",
              "    .dataframe tbody tr th:only-of-type {\n",
              "        vertical-align: middle;\n",
              "    }\n",
              "\n",
              "    .dataframe tbody tr th {\n",
              "        vertical-align: top;\n",
              "    }\n",
              "\n",
              "    .dataframe thead th {\n",
              "        text-align: right;\n",
              "    }\n",
              "</style>\n",
              "<table border=\"1\" class=\"dataframe\">\n",
              "  <thead>\n",
              "    <tr style=\"text-align: right;\">\n",
              "      <th></th>\n",
              "      <th>age</th>\n",
              "      <th>sex</th>\n",
              "      <th>cp</th>\n",
              "      <th>trestbps</th>\n",
              "      <th>chol</th>\n",
              "      <th>fbs</th>\n",
              "      <th>restecg</th>\n",
              "      <th>thalach</th>\n",
              "      <th>exang</th>\n",
              "      <th>oldpeak</th>\n",
              "      <th>slope</th>\n",
              "      <th>ca</th>\n",
              "      <th>thal</th>\n",
              "      <th>target</th>\n",
              "    </tr>\n",
              "  </thead>\n",
              "  <tbody>\n",
              "    <tr>\n",
              "      <th>0</th>\n",
              "      <td>63</td>\n",
              "      <td>1</td>\n",
              "      <td>3</td>\n",
              "      <td>145</td>\n",
              "      <td>233</td>\n",
              "      <td>1</td>\n",
              "      <td>0</td>\n",
              "      <td>150</td>\n",
              "      <td>0</td>\n",
              "      <td>2.3</td>\n",
              "      <td>0</td>\n",
              "      <td>0</td>\n",
              "      <td>1</td>\n",
              "      <td>1</td>\n",
              "    </tr>\n",
              "    <tr>\n",
              "      <th>1</th>\n",
              "      <td>37</td>\n",
              "      <td>1</td>\n",
              "      <td>2</td>\n",
              "      <td>130</td>\n",
              "      <td>250</td>\n",
              "      <td>0</td>\n",
              "      <td>1</td>\n",
              "      <td>187</td>\n",
              "      <td>0</td>\n",
              "      <td>3.5</td>\n",
              "      <td>0</td>\n",
              "      <td>0</td>\n",
              "      <td>2</td>\n",
              "      <td>1</td>\n",
              "    </tr>\n",
              "    <tr>\n",
              "      <th>2</th>\n",
              "      <td>41</td>\n",
              "      <td>0</td>\n",
              "      <td>1</td>\n",
              "      <td>130</td>\n",
              "      <td>204</td>\n",
              "      <td>0</td>\n",
              "      <td>0</td>\n",
              "      <td>172</td>\n",
              "      <td>0</td>\n",
              "      <td>1.4</td>\n",
              "      <td>2</td>\n",
              "      <td>0</td>\n",
              "      <td>2</td>\n",
              "      <td>1</td>\n",
              "    </tr>\n",
              "    <tr>\n",
              "      <th>3</th>\n",
              "      <td>56</td>\n",
              "      <td>1</td>\n",
              "      <td>1</td>\n",
              "      <td>120</td>\n",
              "      <td>236</td>\n",
              "      <td>0</td>\n",
              "      <td>1</td>\n",
              "      <td>178</td>\n",
              "      <td>0</td>\n",
              "      <td>0.8</td>\n",
              "      <td>2</td>\n",
              "      <td>0</td>\n",
              "      <td>2</td>\n",
              "      <td>1</td>\n",
              "    </tr>\n",
              "    <tr>\n",
              "      <th>4</th>\n",
              "      <td>57</td>\n",
              "      <td>0</td>\n",
              "      <td>0</td>\n",
              "      <td>120</td>\n",
              "      <td>354</td>\n",
              "      <td>0</td>\n",
              "      <td>1</td>\n",
              "      <td>163</td>\n",
              "      <td>1</td>\n",
              "      <td>0.6</td>\n",
              "      <td>2</td>\n",
              "      <td>0</td>\n",
              "      <td>2</td>\n",
              "      <td>1</td>\n",
              "    </tr>\n",
              "  </tbody>\n",
              "</table>\n",
              "</div>"
            ],
            "text/plain": [
              "   age  sex  cp  trestbps  chol  fbs  ...  exang  oldpeak  slope  ca  thal  target\n",
              "0   63    1   3       145   233    1  ...      0      2.3      0   0     1       1\n",
              "1   37    1   2       130   250    0  ...      0      3.5      0   0     2       1\n",
              "2   41    0   1       130   204    0  ...      0      1.4      2   0     2       1\n",
              "3   56    1   1       120   236    0  ...      0      0.8      2   0     2       1\n",
              "4   57    0   0       120   354    0  ...      1      0.6      2   0     2       1\n",
              "\n",
              "[5 rows x 14 columns]"
            ]
          },
          "metadata": {
            "tags": []
          },
          "execution_count": 270
        }
      ]
    },
    {
      "cell_type": "code",
      "metadata": {
        "id": "JYXPRR-m-6z-",
        "colab_type": "code",
        "colab": {
          "base_uri": "https://localhost:8080/",
          "height": 286
        },
        "outputId": "410fe316-f6ab-442b-d5d5-3244c56e94a7"
      },
      "source": [
        "data.describe()"
      ],
      "execution_count": 271,
      "outputs": [
        {
          "output_type": "execute_result",
          "data": {
            "text/html": [
              "<div>\n",
              "<style scoped>\n",
              "    .dataframe tbody tr th:only-of-type {\n",
              "        vertical-align: middle;\n",
              "    }\n",
              "\n",
              "    .dataframe tbody tr th {\n",
              "        vertical-align: top;\n",
              "    }\n",
              "\n",
              "    .dataframe thead th {\n",
              "        text-align: right;\n",
              "    }\n",
              "</style>\n",
              "<table border=\"1\" class=\"dataframe\">\n",
              "  <thead>\n",
              "    <tr style=\"text-align: right;\">\n",
              "      <th></th>\n",
              "      <th>age</th>\n",
              "      <th>sex</th>\n",
              "      <th>cp</th>\n",
              "      <th>trestbps</th>\n",
              "      <th>chol</th>\n",
              "      <th>fbs</th>\n",
              "      <th>restecg</th>\n",
              "      <th>thalach</th>\n",
              "      <th>exang</th>\n",
              "      <th>oldpeak</th>\n",
              "      <th>slope</th>\n",
              "      <th>ca</th>\n",
              "      <th>thal</th>\n",
              "      <th>target</th>\n",
              "    </tr>\n",
              "  </thead>\n",
              "  <tbody>\n",
              "    <tr>\n",
              "      <th>count</th>\n",
              "      <td>303.000000</td>\n",
              "      <td>303.000000</td>\n",
              "      <td>303.000000</td>\n",
              "      <td>303.000000</td>\n",
              "      <td>303.000000</td>\n",
              "      <td>303.000000</td>\n",
              "      <td>303.000000</td>\n",
              "      <td>303.000000</td>\n",
              "      <td>303.000000</td>\n",
              "      <td>303.000000</td>\n",
              "      <td>303.000000</td>\n",
              "      <td>303.000000</td>\n",
              "      <td>303.000000</td>\n",
              "      <td>303.000000</td>\n",
              "    </tr>\n",
              "    <tr>\n",
              "      <th>mean</th>\n",
              "      <td>54.366337</td>\n",
              "      <td>0.683168</td>\n",
              "      <td>0.966997</td>\n",
              "      <td>131.623762</td>\n",
              "      <td>246.264026</td>\n",
              "      <td>0.148515</td>\n",
              "      <td>0.528053</td>\n",
              "      <td>149.646865</td>\n",
              "      <td>0.326733</td>\n",
              "      <td>1.039604</td>\n",
              "      <td>1.399340</td>\n",
              "      <td>0.729373</td>\n",
              "      <td>2.313531</td>\n",
              "      <td>0.544554</td>\n",
              "    </tr>\n",
              "    <tr>\n",
              "      <th>std</th>\n",
              "      <td>9.082101</td>\n",
              "      <td>0.466011</td>\n",
              "      <td>1.032052</td>\n",
              "      <td>17.538143</td>\n",
              "      <td>51.830751</td>\n",
              "      <td>0.356198</td>\n",
              "      <td>0.525860</td>\n",
              "      <td>22.905161</td>\n",
              "      <td>0.469794</td>\n",
              "      <td>1.161075</td>\n",
              "      <td>0.616226</td>\n",
              "      <td>1.022606</td>\n",
              "      <td>0.612277</td>\n",
              "      <td>0.498835</td>\n",
              "    </tr>\n",
              "    <tr>\n",
              "      <th>min</th>\n",
              "      <td>29.000000</td>\n",
              "      <td>0.000000</td>\n",
              "      <td>0.000000</td>\n",
              "      <td>94.000000</td>\n",
              "      <td>126.000000</td>\n",
              "      <td>0.000000</td>\n",
              "      <td>0.000000</td>\n",
              "      <td>71.000000</td>\n",
              "      <td>0.000000</td>\n",
              "      <td>0.000000</td>\n",
              "      <td>0.000000</td>\n",
              "      <td>0.000000</td>\n",
              "      <td>0.000000</td>\n",
              "      <td>0.000000</td>\n",
              "    </tr>\n",
              "    <tr>\n",
              "      <th>25%</th>\n",
              "      <td>47.500000</td>\n",
              "      <td>0.000000</td>\n",
              "      <td>0.000000</td>\n",
              "      <td>120.000000</td>\n",
              "      <td>211.000000</td>\n",
              "      <td>0.000000</td>\n",
              "      <td>0.000000</td>\n",
              "      <td>133.500000</td>\n",
              "      <td>0.000000</td>\n",
              "      <td>0.000000</td>\n",
              "      <td>1.000000</td>\n",
              "      <td>0.000000</td>\n",
              "      <td>2.000000</td>\n",
              "      <td>0.000000</td>\n",
              "    </tr>\n",
              "    <tr>\n",
              "      <th>50%</th>\n",
              "      <td>55.000000</td>\n",
              "      <td>1.000000</td>\n",
              "      <td>1.000000</td>\n",
              "      <td>130.000000</td>\n",
              "      <td>240.000000</td>\n",
              "      <td>0.000000</td>\n",
              "      <td>1.000000</td>\n",
              "      <td>153.000000</td>\n",
              "      <td>0.000000</td>\n",
              "      <td>0.800000</td>\n",
              "      <td>1.000000</td>\n",
              "      <td>0.000000</td>\n",
              "      <td>2.000000</td>\n",
              "      <td>1.000000</td>\n",
              "    </tr>\n",
              "    <tr>\n",
              "      <th>75%</th>\n",
              "      <td>61.000000</td>\n",
              "      <td>1.000000</td>\n",
              "      <td>2.000000</td>\n",
              "      <td>140.000000</td>\n",
              "      <td>274.500000</td>\n",
              "      <td>0.000000</td>\n",
              "      <td>1.000000</td>\n",
              "      <td>166.000000</td>\n",
              "      <td>1.000000</td>\n",
              "      <td>1.600000</td>\n",
              "      <td>2.000000</td>\n",
              "      <td>1.000000</td>\n",
              "      <td>3.000000</td>\n",
              "      <td>1.000000</td>\n",
              "    </tr>\n",
              "    <tr>\n",
              "      <th>max</th>\n",
              "      <td>77.000000</td>\n",
              "      <td>1.000000</td>\n",
              "      <td>3.000000</td>\n",
              "      <td>200.000000</td>\n",
              "      <td>564.000000</td>\n",
              "      <td>1.000000</td>\n",
              "      <td>2.000000</td>\n",
              "      <td>202.000000</td>\n",
              "      <td>1.000000</td>\n",
              "      <td>6.200000</td>\n",
              "      <td>2.000000</td>\n",
              "      <td>4.000000</td>\n",
              "      <td>3.000000</td>\n",
              "      <td>1.000000</td>\n",
              "    </tr>\n",
              "  </tbody>\n",
              "</table>\n",
              "</div>"
            ],
            "text/plain": [
              "              age         sex          cp  ...          ca        thal      target\n",
              "count  303.000000  303.000000  303.000000  ...  303.000000  303.000000  303.000000\n",
              "mean    54.366337    0.683168    0.966997  ...    0.729373    2.313531    0.544554\n",
              "std      9.082101    0.466011    1.032052  ...    1.022606    0.612277    0.498835\n",
              "min     29.000000    0.000000    0.000000  ...    0.000000    0.000000    0.000000\n",
              "25%     47.500000    0.000000    0.000000  ...    0.000000    2.000000    0.000000\n",
              "50%     55.000000    1.000000    1.000000  ...    0.000000    2.000000    1.000000\n",
              "75%     61.000000    1.000000    2.000000  ...    1.000000    3.000000    1.000000\n",
              "max     77.000000    1.000000    3.000000  ...    4.000000    3.000000    1.000000\n",
              "\n",
              "[8 rows x 14 columns]"
            ]
          },
          "metadata": {
            "tags": []
          },
          "execution_count": 271
        }
      ]
    },
    {
      "cell_type": "markdown",
      "metadata": {
        "id": "TvXTynSF7BHc",
        "colab_type": "text"
      },
      "source": [
        "Let's look at some Plots to learn more about data"
      ]
    },
    {
      "cell_type": "code",
      "metadata": {
        "id": "HbCBnhzJAYYF",
        "colab_type": "code",
        "colab": {
          "base_uri": "https://localhost:8080/",
          "height": 1000
        },
        "outputId": "54a7dd36-d81b-421f-fd17-3e09e268c91c"
      },
      "source": [
        "plt.hist(data['age'],bins=100)"
      ],
      "execution_count": 272,
      "outputs": [
        {
          "output_type": "execute_result",
          "data": {
            "text/plain": [
              "(array([ 1.,  0.,  0.,  0.,  0.,  0.,  0.,  0.,  0.,  0.,  2.,  0.,  4.,\n",
              "         0.,  0.,  0.,  2.,  0.,  3.,  0.,  4.,  0.,  3.,  0.,  0., 10.,\n",
              "         0.,  8.,  0.,  8.,  0., 11.,  0.,  8.,  0.,  7.,  0.,  5.,  0.,\n",
              "         7.,  0.,  5.,  0.,  7.,  0., 12.,  0., 13.,  0.,  0.,  8.,  0.,\n",
              "        16.,  0.,  8.,  0., 11.,  0., 17.,  0., 19.,  0., 14.,  0., 11.,\n",
              "         0.,  8.,  0., 11.,  0.,  9.,  0., 10.,  0.,  0.,  8.,  0.,  7.,\n",
              "         0.,  9.,  0.,  4.,  0.,  3.,  0.,  4.,  0.,  3.,  0.,  0.,  0.,\n",
              "         0.,  0.,  1.,  0.,  0.,  0.,  1.,  0.,  1.]),\n",
              " array([29.  , 29.48, 29.96, 30.44, 30.92, 31.4 , 31.88, 32.36, 32.84,\n",
              "        33.32, 33.8 , 34.28, 34.76, 35.24, 35.72, 36.2 , 36.68, 37.16,\n",
              "        37.64, 38.12, 38.6 , 39.08, 39.56, 40.04, 40.52, 41.  , 41.48,\n",
              "        41.96, 42.44, 42.92, 43.4 , 43.88, 44.36, 44.84, 45.32, 45.8 ,\n",
              "        46.28, 46.76, 47.24, 47.72, 48.2 , 48.68, 49.16, 49.64, 50.12,\n",
              "        50.6 , 51.08, 51.56, 52.04, 52.52, 53.  , 53.48, 53.96, 54.44,\n",
              "        54.92, 55.4 , 55.88, 56.36, 56.84, 57.32, 57.8 , 58.28, 58.76,\n",
              "        59.24, 59.72, 60.2 , 60.68, 61.16, 61.64, 62.12, 62.6 , 63.08,\n",
              "        63.56, 64.04, 64.52, 65.  , 65.48, 65.96, 66.44, 66.92, 67.4 ,\n",
              "        67.88, 68.36, 68.84, 69.32, 69.8 , 70.28, 70.76, 71.24, 71.72,\n",
              "        72.2 , 72.68, 73.16, 73.64, 74.12, 74.6 , 75.08, 75.56, 76.04,\n",
              "        76.52, 77.  ]),\n",
              " <a list of 100 Patch objects>)"
            ]
          },
          "metadata": {
            "tags": []
          },
          "execution_count": 272
        },
        {
          "output_type": "display_data",
          "data": {
            "image/png": "[encoded data removed]",
            "text/plain": [
              "<Figure size 1440x1008 with 1 Axes>"
            ]
          },
          "metadata": {
            "tags": [],
            "needs_background": "light"
          }
        }
      ]
    },
    {
      "cell_type": "code",
      "metadata": {
        "id": "sPqPMd_IFnBg",
        "colab_type": "code",
        "colab": {
          "base_uri": "https://localhost:8080/",
          "height": 745
        },
        "outputId": "16b77a54-82a2-42de-a104-79ce144643ad"
      },
      "source": [
        "sns.factorplot('age', kind='count' , hue='target', data=data, palette='coolwarm', height=10, aspect=.8)"
      ],
      "execution_count": 273,
      "outputs": [
        {
          "output_type": "execute_result",
          "data": {
            "text/plain": [
              "<seaborn.axisgrid.FacetGrid at 0x7fd1b597e470>"
            ]
          },
          "metadata": {
            "tags": []
          },
          "execution_count": 273
        },
        {
          "output_type": "display_data",
          "data": {
            "image/png": "[encoded data removed]",
            "text/plain": [
              "<Figure size 618.375x720 with 1 Axes>"
            ]
          },
          "metadata": {
            "tags": [],
            "needs_background": "light"
          }
        }
      ]
    },
    {
      "cell_type": "code",
      "metadata": {
        "id": "l7v1cn7mG2Pr",
        "colab_type": "code",
        "colab": {
          "base_uri": "https://localhost:8080/",
          "height": 745
        },
        "outputId": "14c894f8-76f3-41f9-9350-14991198940b"
      },
      "source": [
        "sns.factorplot('sex', kind='count' , hue='target', data=data, palette='coolwarm', height=10, aspect=.8)"
      ],
      "execution_count": 274,
      "outputs": [
        {
          "output_type": "execute_result",
          "data": {
            "text/plain": [
              "<seaborn.axisgrid.FacetGrid at 0x7fd1b5868470>"
            ]
          },
          "metadata": {
            "tags": []
          },
          "execution_count": 274
        },
        {
          "output_type": "display_data",
          "data": {
            "image/png": "[encoded data removed]",
            "text/plain": [
              "<Figure size 618.375x720 with 1 Axes>"
            ]
          },
          "metadata": {
            "tags": [],
            "needs_background": "light"
          }
        }
      ]
    },
    {
      "cell_type": "code",
      "metadata": {
        "id": "h0ybqBtB6z0V",
        "colab_type": "code",
        "colab": {
          "base_uri": "https://localhost:8080/",
          "height": 833
        },
        "outputId": "59224bf8-a0b0-4f58-e3e5-e6e992f82163"
      },
      "source": [
        "rcParams['figure.figsize'] = 20, 14\n",
        "plt.matshow(data.corr())\n",
        "plt.yticks(np.arange(data.shape[1]),data.columns)\n",
        "plt.xticks(np.arange(data.shape[1]),data.columns)\n",
        "plt.colorbar()"
      ],
      "execution_count": 275,
      "outputs": [
        {
          "output_type": "execute_result",
          "data": {
            "text/plain": [
              "<matplotlib.colorbar.Colorbar at 0x7fd1b570eb38>"
            ]
          },
          "metadata": {
            "tags": []
          },
          "execution_count": 275
        },
        {
          "output_type": "display_data",
          "data": {
            "image/png": "[encoded data removed]",
            "text/plain": [
              "<Figure size 1008x1008 with 2 Axes>"
            ]
          },
          "metadata": {
            "tags": [],
            "needs_background": "light"
          }
        }
      ]
    },
    {
      "cell_type": "code",
      "metadata": {
        "id": "88bG0ETM8PZG",
        "colab_type": "code",
        "colab": {
          "base_uri": "https://localhost:8080/",
          "height": 1000
        },
        "outputId": "5e176143-5e85-44c3-ec1e-c2e4fb4b5c48"
      },
      "source": [
        "data.hist()"
      ],
      "execution_count": 276,
      "outputs": [
        {
          "output_type": "execute_result",
          "data": {
            "text/plain": [
              "array([[<matplotlib.axes._subplots.AxesSubplot object at 0x7fd1b5514ef0>,\n",
              "        <matplotlib.axes._subplots.AxesSubplot object at 0x7fd1b53bec50>,\n",
              "        <matplotlib.axes._subplots.AxesSubplot object at 0x7fd1b536ffd0>,\n",
              "        <matplotlib.axes._subplots.AxesSubplot object at 0x7fd1b532c390>],\n",
              "       [<matplotlib.axes._subplots.AxesSubplot object at 0x7fd1b52df710>,\n",
              "        <matplotlib.axes._subplots.AxesSubplot object at 0x7fd1b5311a90>,\n",
              "        <matplotlib.axes._subplots.AxesSubplot object at 0x7fd1b52c2e10>,\n",
              "        <matplotlib.axes._subplots.AxesSubplot object at 0x7fd1b5281198>],\n",
              "       [<matplotlib.axes._subplots.AxesSubplot object at 0x7fd1b5281208>,\n",
              "        <matplotlib.axes._subplots.AxesSubplot object at 0x7fd1b51e68d0>,\n",
              "        <matplotlib.axes._subplots.AxesSubplot object at 0x7fd1b5219c50>,\n",
              "        <matplotlib.axes._subplots.AxesSubplot object at 0x7fd1b51cbfd0>],\n",
              "       [<matplotlib.axes._subplots.AxesSubplot object at 0x7fd1b5188390>,\n",
              "        <matplotlib.axes._subplots.AxesSubplot object at 0x7fd1b513a710>,\n",
              "        <matplotlib.axes._subplots.AxesSubplot object at 0x7fd1b50eba90>,\n",
              "        <matplotlib.axes._subplots.AxesSubplot object at 0x7fd1b50a1e10>]],\n",
              "      dtype=object)"
            ]
          },
          "metadata": {
            "tags": []
          },
          "execution_count": 276
        },
        {
          "output_type": "display_data",
          "data": {
            "image/png": "[encoded data removed]",
            "text/plain": [
              "<Figure size 1440x1008 with 16 Axes>"
            ]
          },
          "metadata": {
            "tags": [],
            "needs_background": "light"
          }
        }
      ]
    },
    {
      "cell_type": "code",
      "metadata": {
        "id": "kMkQGjYl93dn",
        "colab_type": "code",
        "colab": {}
      },
      "source": [
        "data=pd.get_dummies(data,columns=['sex','cp', 'fbs', 'restecg', 'exang', 'slope', 'ca', 'thal'])"
      ],
      "execution_count": 0,
      "outputs": []
    },
    {
      "cell_type": "code",
      "metadata": {
        "id": "JVNrpXK6As5e",
        "colab_type": "code",
        "colab": {
          "base_uri": "https://localhost:8080/",
          "height": 197
        },
        "outputId": "9eebddc7-d72b-4e04-8f09-6c1d58341735"
      },
      "source": [
        "data.head()"
      ],
      "execution_count": 278,
      "outputs": [
        {
          "output_type": "execute_result",
          "data": {
            "text/html": [
              "<div>\n",
              "<style scoped>\n",
              "    .dataframe tbody tr th:only-of-type {\n",
              "        vertical-align: middle;\n",
              "    }\n",
              "\n",
              "    .dataframe tbody tr th {\n",
              "        vertical-align: top;\n",
              "    }\n",
              "\n",
              "    .dataframe thead th {\n",
              "        text-align: right;\n",
              "    }\n",
              "</style>\n",
              "<table border=\"1\" class=\"dataframe\">\n",
              "  <thead>\n",
              "    <tr style=\"text-align: right;\">\n",
              "      <th></th>\n",
              "      <th>age</th>\n",
              "      <th>trestbps</th>\n",
              "      <th>chol</th>\n",
              "      <th>thalach</th>\n",
              "      <th>oldpeak</th>\n",
              "      <th>target</th>\n",
              "      <th>sex_0</th>\n",
              "      <th>sex_1</th>\n",
              "      <th>cp_0</th>\n",
              "      <th>cp_1</th>\n",
              "      <th>cp_2</th>\n",
              "      <th>cp_3</th>\n",
              "      <th>fbs_0</th>\n",
              "      <th>fbs_1</th>\n",
              "      <th>restecg_0</th>\n",
              "      <th>restecg_1</th>\n",
              "      <th>restecg_2</th>\n",
              "      <th>exang_0</th>\n",
              "      <th>exang_1</th>\n",
              "      <th>slope_0</th>\n",
              "      <th>slope_1</th>\n",
              "      <th>slope_2</th>\n",
              "      <th>ca_0</th>\n",
              "      <th>ca_1</th>\n",
              "      <th>ca_2</th>\n",
              "      <th>ca_3</th>\n",
              "      <th>ca_4</th>\n",
              "      <th>thal_0</th>\n",
              "      <th>thal_1</th>\n",
              "      <th>thal_2</th>\n",
              "      <th>thal_3</th>\n",
              "    </tr>\n",
              "  </thead>\n",
              "  <tbody>\n",
              "    <tr>\n",
              "      <th>0</th>\n",
              "      <td>63</td>\n",
              "      <td>145</td>\n",
              "      <td>233</td>\n",
              "      <td>150</td>\n",
              "      <td>2.3</td>\n",
              "      <td>1</td>\n",
              "      <td>0</td>\n",
              "      <td>1</td>\n",
              "      <td>0</td>\n",
              "      <td>0</td>\n",
              "      <td>0</td>\n",
              "      <td>1</td>\n",
              "      <td>0</td>\n",
              "      <td>1</td>\n",
              "      <td>1</td>\n",
              "      <td>0</td>\n",
              "      <td>0</td>\n",
              "      <td>1</td>\n",
              "      <td>0</td>\n",
              "      <td>1</td>\n",
              "      <td>0</td>\n",
              "      <td>0</td>\n",
              "      <td>1</td>\n",
              "      <td>0</td>\n",
              "      <td>0</td>\n",
              "      <td>0</td>\n",
              "      <td>0</td>\n",
              "      <td>0</td>\n",
              "      <td>1</td>\n",
              "      <td>0</td>\n",
              "      <td>0</td>\n",
              "    </tr>\n",
              "    <tr>\n",
              "      <th>1</th>\n",
              "      <td>37</td>\n",
              "      <td>130</td>\n",
              "      <td>250</td>\n",
              "      <td>187</td>\n",
              "      <td>3.5</td>\n",
              "      <td>1</td>\n",
              "      <td>0</td>\n",
              "      <td>1</td>\n",
              "      <td>0</td>\n",
              "      <td>0</td>\n",
              "      <td>1</td>\n",
              "      <td>0</td>\n",
              "      <td>1</td>\n",
              "      <td>0</td>\n",
              "      <td>0</td>\n",
              "      <td>1</td>\n",
              "      <td>0</td>\n",
              "      <td>1</td>\n",
              "      <td>0</td>\n",
              "      <td>1</td>\n",
              "      <td>0</td>\n",
              "      <td>0</td>\n",
              "      <td>1</td>\n",
              "      <td>0</td>\n",
              "      <td>0</td>\n",
              "      <td>0</td>\n",
              "      <td>0</td>\n",
              "      <td>0</td>\n",
              "      <td>0</td>\n",
              "      <td>1</td>\n",
              "      <td>0</td>\n",
              "    </tr>\n",
              "    <tr>\n",
              "      <th>2</th>\n",
              "      <td>41</td>\n",
              "      <td>130</td>\n",
              "      <td>204</td>\n",
              "      <td>172</td>\n",
              "      <td>1.4</td>\n",
              "      <td>1</td>\n",
              "      <td>1</td>\n",
              "      <td>0</td>\n",
              "      <td>0</td>\n",
              "      <td>1</td>\n",
              "      <td>0</td>\n",
              "      <td>0</td>\n",
              "      <td>1</td>\n",
              "      <td>0</td>\n",
              "      <td>1</td>\n",
              "      <td>0</td>\n",
              "      <td>0</td>\n",
              "      <td>1</td>\n",
              "      <td>0</td>\n",
              "      <td>0</td>\n",
              "      <td>0</td>\n",
              "      <td>1</td>\n",
              "      <td>1</td>\n",
              "      <td>0</td>\n",
              "      <td>0</td>\n",
              "      <td>0</td>\n",
              "      <td>0</td>\n",
              "      <td>0</td>\n",
              "      <td>0</td>\n",
              "      <td>1</td>\n",
              "      <td>0</td>\n",
              "    </tr>\n",
              "    <tr>\n",
              "      <th>3</th>\n",
              "      <td>56</td>\n",
              "      <td>120</td>\n",
              "      <td>236</td>\n",
              "      <td>178</td>\n",
              "      <td>0.8</td>\n",
              "      <td>1</td>\n",
              "      <td>0</td>\n",
              "      <td>1</td>\n",
              "      <td>0</td>\n",
              "      <td>1</td>\n",
              "      <td>0</td>\n",
              "      <td>0</td>\n",
              "      <td>1</td>\n",
              "      <td>0</td>\n",
              "      <td>0</td>\n",
              "      <td>1</td>\n",
              "      <td>0</td>\n",
              "      <td>1</td>\n",
              "      <td>0</td>\n",
              "      <td>0</td>\n",
              "      <td>0</td>\n",
              "      <td>1</td>\n",
              "      <td>1</td>\n",
              "      <td>0</td>\n",
              "      <td>0</td>\n",
              "      <td>0</td>\n",
              "      <td>0</td>\n",
              "      <td>0</td>\n",
              "      <td>0</td>\n",
              "      <td>1</td>\n",
              "      <td>0</td>\n",
              "    </tr>\n",
              "    <tr>\n",
              "      <th>4</th>\n",
              "      <td>57</td>\n",
              "      <td>120</td>\n",
              "      <td>354</td>\n",
              "      <td>163</td>\n",
              "      <td>0.6</td>\n",
              "      <td>1</td>\n",
              "      <td>1</td>\n",
              "      <td>0</td>\n",
              "      <td>1</td>\n",
              "      <td>0</td>\n",
              "      <td>0</td>\n",
              "      <td>0</td>\n",
              "      <td>1</td>\n",
              "      <td>0</td>\n",
              "      <td>0</td>\n",
              "      <td>1</td>\n",
              "      <td>0</td>\n",
              "      <td>0</td>\n",
              "      <td>1</td>\n",
              "      <td>0</td>\n",
              "      <td>0</td>\n",
              "      <td>1</td>\n",
              "      <td>1</td>\n",
              "      <td>0</td>\n",
              "      <td>0</td>\n",
              "      <td>0</td>\n",
              "      <td>0</td>\n",
              "      <td>0</td>\n",
              "      <td>0</td>\n",
              "      <td>1</td>\n",
              "      <td>0</td>\n",
              "    </tr>\n",
              "  </tbody>\n",
              "</table>\n",
              "</div>"
            ],
            "text/plain": [
              "   age  trestbps  chol  thalach  oldpeak  ...  ca_4  thal_0  thal_1  thal_2  thal_3\n",
              "0   63       145   233      150      2.3  ...     0       0       1       0       0\n",
              "1   37       130   250      187      3.5  ...     0       0       0       1       0\n",
              "2   41       130   204      172      1.4  ...     0       0       0       1       0\n",
              "3   56       120   236      178      0.8  ...     0       0       0       1       0\n",
              "4   57       120   354      163      0.6  ...     0       0       0       1       0\n",
              "\n",
              "[5 rows x 31 columns]"
            ]
          },
          "metadata": {
            "tags": []
          },
          "execution_count": 278
        }
      ]
    },
    {
      "cell_type": "code",
      "metadata": {
        "id": "utZKTc6YA1WB",
        "colab_type": "code",
        "colab": {}
      },
      "source": [
        "standardScaler = StandardScaler()"
      ],
      "execution_count": 0,
      "outputs": []
    },
    {
      "cell_type": "code",
      "metadata": {
        "id": "m26eiU1ABdYY",
        "colab_type": "code",
        "colab": {}
      },
      "source": [
        "columns_to_scale=['age','trestbps', 'chol', 'thalach', 'oldpeak']"
      ],
      "execution_count": 0,
      "outputs": []
    },
    {
      "cell_type": "code",
      "metadata": {
        "id": "dFX0DGziCBDY",
        "colab_type": "code",
        "colab": {}
      },
      "source": [
        "data[columns_to_scale]=standardScaler.fit_transform(data[columns_to_scale])"
      ],
      "execution_count": 0,
      "outputs": []
    },
    {
      "cell_type": "code",
      "metadata": {
        "id": "ugAsoZBeCPDf",
        "colab_type": "code",
        "colab": {}
      },
      "source": [
        "y=data['target']\n",
        "X=data.drop(['target'], axis=1)\n",
        "X_train, X_test, y_train, y_test = train_test_split(X,y,test_size=0.40,random_state=0) "
      ],
      "execution_count": 0,
      "outputs": []
    },
    {
      "cell_type": "markdown",
      "metadata": {
        "id": "tGW_jLB-C2bc",
        "colab_type": "text"
      },
      "source": [
        "**Neural Network   [https://machinelearningmastery.com/tutorial-first-neural-network-python-keras/](https://)**"
      ]
    },
    {
      "cell_type": "code",
      "metadata": {
        "id": "WQ9iAI1uCs24",
        "colab_type": "code",
        "colab": {}
      },
      "source": [
        "from keras.models import Sequential\n",
        "from keras.layers import Dense"
      ],
      "execution_count": 0,
      "outputs": []
    },
    {
      "cell_type": "code",
      "metadata": {
        "id": "RWAzYa6rDQYJ",
        "colab_type": "code",
        "colab": {}
      },
      "source": [
        "model=Sequential()"
      ],
      "execution_count": 0,
      "outputs": []
    },
    {
      "cell_type": "code",
      "metadata": {
        "id": "FIElP9XfDWVu",
        "colab_type": "code",
        "colab": {
          "base_uri": "https://localhost:8080/",
          "height": 34
        },
        "outputId": "606d688d-cb90-42a7-b4c8-0b9ced080099"
      },
      "source": [
        "len(data.columns)"
      ],
      "execution_count": 285,
      "outputs": [
        {
          "output_type": "execute_result",
          "data": {
            "text/plain": [
              "31"
            ]
          },
          "metadata": {
            "tags": []
          },
          "execution_count": 285
        }
      ]
    },
    {
      "cell_type": "code",
      "metadata": {
        "id": "S0k_qKtlDjPl",
        "colab_type": "code",
        "colab": {}
      },
      "source": [
        "model.add(Dense(60,input_dim=30,activation='sigmoid'))\n",
        "model.add(Dense(20, activation='sigmoid'))\n",
        "model.add(Dense(1, activation='sigmoid'))"
      ],
      "execution_count": 0,
      "outputs": []
    },
    {
      "cell_type": "code",
      "metadata": {
        "id": "V8NtCzWoGIJA",
        "colab_type": "code",
        "colab": {}
      },
      "source": [
        "model.compile(loss='binary_crossentropy', optimizer='adam', metrics=['accuracy'])"
      ],
      "execution_count": 0,
      "outputs": []
    },
    {
      "cell_type": "code",
      "metadata": {
        "id": "EdcW2DrdGhbS",
        "colab_type": "code",
        "colab": {
          "base_uri": "https://localhost:8080/",
          "height": 1000
        },
        "outputId": "c081e4e0-8cc8-4c6c-cd9d-ccd129ae0ddf"
      },
      "source": [
        "model.fit(X_train,y_train,epochs=150)"
      ],
      "execution_count": 288,
      "outputs": [
        {
          "output_type": "stream",
          "text": [
            "Epoch 1/150\n",
            "181/181 [==============================] - 0s 546us/step - loss: 0.7101 - accuracy: 0.4365\n",
            "Epoch 2/150\n",
            "181/181 [==============================] - 0s 56us/step - loss: 0.6833 - accuracy: 0.6077\n",
            "Epoch 3/150\n",
            "181/181 [==============================] - 0s 59us/step - loss: 0.6675 - accuracy: 0.5691\n",
            "Epoch 4/150\n",
            "181/181 [==============================] - 0s 53us/step - loss: 0.6568 - accuracy: 0.5635\n",
            "Epoch 5/150\n",
            "181/181 [==============================] - 0s 60us/step - loss: 0.6498 - accuracy: 0.5635\n",
            "Epoch 6/150\n",
            "181/181 [==============================] - 0s 61us/step - loss: 0.6396 - accuracy: 0.5635\n",
            "Epoch 7/150\n",
            "181/181 [==============================] - 0s 67us/step - loss: 0.6295 - accuracy: 0.6133\n",
            "Epoch 8/150\n",
            "181/181 [==============================] - 0s 66us/step - loss: 0.6197 - accuracy: 0.7238\n",
            "Epoch 9/150\n",
            "181/181 [==============================] - 0s 70us/step - loss: 0.6088 - accuracy: 0.7901\n",
            "Epoch 10/150\n",
            "181/181 [==============================] - 0s 80us/step - loss: 0.5974 - accuracy: 0.8287\n",
            "Epoch 11/150\n",
            "181/181 [==============================] - 0s 61us/step - loss: 0.5855 - accuracy: 0.8232\n",
            "Epoch 12/150\n",
            "181/181 [==============================] - 0s 63us/step - loss: 0.5720 - accuracy: 0.8232\n",
            "Epoch 13/150\n",
            "181/181 [==============================] - 0s 67us/step - loss: 0.5589 - accuracy: 0.8177\n",
            "Epoch 14/150\n",
            "181/181 [==============================] - 0s 68us/step - loss: 0.5457 - accuracy: 0.8122\n",
            "Epoch 15/150\n",
            "181/181 [==============================] - 0s 65us/step - loss: 0.5313 - accuracy: 0.8287\n",
            "Epoch 16/150\n",
            "181/181 [==============================] - 0s 62us/step - loss: 0.5174 - accuracy: 0.8398\n",
            "Epoch 17/150\n",
            "181/181 [==============================] - 0s 64us/step - loss: 0.5033 - accuracy: 0.8398\n",
            "Epoch 18/150\n",
            "181/181 [==============================] - 0s 61us/step - loss: 0.4888 - accuracy: 0.8453\n",
            "Epoch 19/150\n",
            "181/181 [==============================] - 0s 60us/step - loss: 0.4761 - accuracy: 0.8508\n",
            "Epoch 20/150\n",
            "181/181 [==============================] - 0s 59us/step - loss: 0.4622 - accuracy: 0.8564\n",
            "Epoch 21/150\n",
            "181/181 [==============================] - 0s 66us/step - loss: 0.4504 - accuracy: 0.8564\n",
            "Epoch 22/150\n",
            "181/181 [==============================] - 0s 65us/step - loss: 0.4376 - accuracy: 0.8564\n",
            "Epoch 23/150\n",
            "181/181 [==============================] - 0s 66us/step - loss: 0.4272 - accuracy: 0.8619\n",
            "Epoch 24/150\n",
            "181/181 [==============================] - 0s 60us/step - loss: 0.4161 - accuracy: 0.8619\n",
            "Epoch 25/150\n",
            "181/181 [==============================] - 0s 61us/step - loss: 0.4073 - accuracy: 0.8564\n",
            "Epoch 26/150\n",
            "181/181 [==============================] - 0s 72us/step - loss: 0.3977 - accuracy: 0.8619\n",
            "Epoch 27/150\n",
            "181/181 [==============================] - 0s 58us/step - loss: 0.3897 - accuracy: 0.8619\n",
            "Epoch 28/150\n",
            "181/181 [==============================] - 0s 59us/step - loss: 0.3820 - accuracy: 0.8619\n",
            "Epoch 29/150\n",
            "181/181 [==============================] - 0s 60us/step - loss: 0.3746 - accuracy: 0.8619\n",
            "Epoch 30/150\n",
            "181/181 [==============================] - 0s 70us/step - loss: 0.3679 - accuracy: 0.8674\n",
            "Epoch 31/150\n",
            "181/181 [==============================] - 0s 65us/step - loss: 0.3623 - accuracy: 0.8674\n",
            "Epoch 32/150\n",
            "181/181 [==============================] - 0s 60us/step - loss: 0.3564 - accuracy: 0.8729\n",
            "Epoch 33/150\n",
            "181/181 [==============================] - 0s 57us/step - loss: 0.3510 - accuracy: 0.8729\n",
            "Epoch 34/150\n",
            "181/181 [==============================] - 0s 58us/step - loss: 0.3461 - accuracy: 0.8729\n",
            "Epoch 35/150\n",
            "181/181 [==============================] - 0s 56us/step - loss: 0.3416 - accuracy: 0.8729\n",
            "Epoch 36/150\n",
            "181/181 [==============================] - 0s 64us/step - loss: 0.3376 - accuracy: 0.8785\n",
            "Epoch 37/150\n",
            "181/181 [==============================] - 0s 56us/step - loss: 0.3332 - accuracy: 0.8895\n",
            "Epoch 38/150\n",
            "181/181 [==============================] - 0s 65us/step - loss: 0.3294 - accuracy: 0.8840\n",
            "Epoch 39/150\n",
            "181/181 [==============================] - 0s 79us/step - loss: 0.3265 - accuracy: 0.8840\n",
            "Epoch 40/150\n",
            "181/181 [==============================] - 0s 65us/step - loss: 0.3227 - accuracy: 0.8840\n",
            "Epoch 41/150\n",
            "181/181 [==============================] - 0s 65us/step - loss: 0.3194 - accuracy: 0.8895\n",
            "Epoch 42/150\n",
            "181/181 [==============================] - 0s 58us/step - loss: 0.3161 - accuracy: 0.8895\n",
            "Epoch 43/150\n",
            "181/181 [==============================] - 0s 53us/step - loss: 0.3133 - accuracy: 0.8950\n",
            "Epoch 44/150\n",
            "181/181 [==============================] - 0s 58us/step - loss: 0.3103 - accuracy: 0.8895\n",
            "Epoch 45/150\n",
            "181/181 [==============================] - 0s 61us/step - loss: 0.3077 - accuracy: 0.8895\n",
            "Epoch 46/150\n",
            "181/181 [==============================] - 0s 49us/step - loss: 0.3055 - accuracy: 0.8950\n",
            "Epoch 47/150\n",
            "181/181 [==============================] - 0s 72us/step - loss: 0.3028 - accuracy: 0.8895\n",
            "Epoch 48/150\n",
            "181/181 [==============================] - 0s 71us/step - loss: 0.3009 - accuracy: 0.8950\n",
            "Epoch 49/150\n",
            "181/181 [==============================] - 0s 59us/step - loss: 0.2982 - accuracy: 0.8950\n",
            "Epoch 50/150\n",
            "181/181 [==============================] - 0s 55us/step - loss: 0.2960 - accuracy: 0.9006\n",
            "Epoch 51/150\n",
            "181/181 [==============================] - 0s 57us/step - loss: 0.2942 - accuracy: 0.9006\n",
            "Epoch 52/150\n",
            "181/181 [==============================] - 0s 56us/step - loss: 0.2923 - accuracy: 0.8950\n",
            "Epoch 53/150\n",
            "181/181 [==============================] - 0s 57us/step - loss: 0.2905 - accuracy: 0.8950\n",
            "Epoch 54/150\n",
            "181/181 [==============================] - 0s 57us/step - loss: 0.2886 - accuracy: 0.8950\n",
            "Epoch 55/150\n",
            "181/181 [==============================] - 0s 59us/step - loss: 0.2876 - accuracy: 0.8950\n",
            "Epoch 56/150\n",
            "181/181 [==============================] - 0s 65us/step - loss: 0.2853 - accuracy: 0.8950\n",
            "Epoch 57/150\n",
            "181/181 [==============================] - 0s 57us/step - loss: 0.2838 - accuracy: 0.8950\n",
            "Epoch 58/150\n",
            "181/181 [==============================] - 0s 69us/step - loss: 0.2826 - accuracy: 0.8895\n",
            "Epoch 59/150\n",
            "181/181 [==============================] - 0s 68us/step - loss: 0.2808 - accuracy: 0.8950\n",
            "Epoch 60/150\n",
            "181/181 [==============================] - 0s 63us/step - loss: 0.2789 - accuracy: 0.8950\n",
            "Epoch 61/150\n",
            "181/181 [==============================] - 0s 64us/step - loss: 0.2775 - accuracy: 0.9006\n",
            "Epoch 62/150\n",
            "181/181 [==============================] - 0s 63us/step - loss: 0.2767 - accuracy: 0.8950\n",
            "Epoch 63/150\n",
            "181/181 [==============================] - 0s 59us/step - loss: 0.2748 - accuracy: 0.9061\n",
            "Epoch 64/150\n",
            "181/181 [==============================] - 0s 61us/step - loss: 0.2746 - accuracy: 0.9006\n",
            "Epoch 65/150\n",
            "181/181 [==============================] - 0s 73us/step - loss: 0.2721 - accuracy: 0.9006\n",
            "Epoch 66/150\n",
            "181/181 [==============================] - 0s 61us/step - loss: 0.2716 - accuracy: 0.9061\n",
            "Epoch 67/150\n",
            "181/181 [==============================] - 0s 57us/step - loss: 0.2699 - accuracy: 0.9061\n",
            "Epoch 68/150\n",
            "181/181 [==============================] - 0s 56us/step - loss: 0.2695 - accuracy: 0.9061\n",
            "Epoch 69/150\n",
            "181/181 [==============================] - 0s 61us/step - loss: 0.2685 - accuracy: 0.8950\n",
            "Epoch 70/150\n",
            "181/181 [==============================] - 0s 56us/step - loss: 0.2669 - accuracy: 0.9006\n",
            "Epoch 71/150\n",
            "181/181 [==============================] - 0s 62us/step - loss: 0.2656 - accuracy: 0.9061\n",
            "Epoch 72/150\n",
            "181/181 [==============================] - 0s 56us/step - loss: 0.2645 - accuracy: 0.9061\n",
            "Epoch 73/150\n",
            "181/181 [==============================] - 0s 78us/step - loss: 0.2636 - accuracy: 0.9061\n",
            "Epoch 74/150\n",
            "181/181 [==============================] - 0s 65us/step - loss: 0.2628 - accuracy: 0.9061\n",
            "Epoch 75/150\n",
            "181/181 [==============================] - 0s 70us/step - loss: 0.2624 - accuracy: 0.9061\n",
            "Epoch 76/150\n",
            "181/181 [==============================] - 0s 57us/step - loss: 0.2612 - accuracy: 0.9061\n",
            "Epoch 77/150\n",
            "181/181 [==============================] - 0s 65us/step - loss: 0.2600 - accuracy: 0.9061\n",
            "Epoch 78/150\n",
            "181/181 [==============================] - 0s 60us/step - loss: 0.2592 - accuracy: 0.9061\n",
            "Epoch 79/150\n",
            "181/181 [==============================] - 0s 60us/step - loss: 0.2580 - accuracy: 0.9061\n",
            "Epoch 80/150\n",
            "181/181 [==============================] - 0s 57us/step - loss: 0.2572 - accuracy: 0.9061\n",
            "Epoch 81/150\n",
            "181/181 [==============================] - 0s 66us/step - loss: 0.2564 - accuracy: 0.9061\n",
            "Epoch 82/150\n",
            "181/181 [==============================] - 0s 65us/step - loss: 0.2556 - accuracy: 0.9061\n",
            "Epoch 83/150\n",
            "181/181 [==============================] - 0s 58us/step - loss: 0.2547 - accuracy: 0.9061\n",
            "Epoch 84/150\n",
            "181/181 [==============================] - 0s 57us/step - loss: 0.2540 - accuracy: 0.9061\n",
            "Epoch 85/150\n",
            "181/181 [==============================] - 0s 52us/step - loss: 0.2531 - accuracy: 0.9061\n",
            "Epoch 86/150\n",
            "181/181 [==============================] - 0s 64us/step - loss: 0.2522 - accuracy: 0.9061\n",
            "Epoch 87/150\n",
            "181/181 [==============================] - 0s 57us/step - loss: 0.2515 - accuracy: 0.9116\n",
            "Epoch 88/150\n",
            "181/181 [==============================] - 0s 59us/step - loss: 0.2514 - accuracy: 0.9061\n",
            "Epoch 89/150\n",
            "181/181 [==============================] - 0s 57us/step - loss: 0.2500 - accuracy: 0.9116\n",
            "Epoch 90/150\n",
            "181/181 [==============================] - 0s 79us/step - loss: 0.2493 - accuracy: 0.9116\n",
            "Epoch 91/150\n",
            "181/181 [==============================] - 0s 62us/step - loss: 0.2489 - accuracy: 0.9061\n",
            "Epoch 92/150\n",
            "181/181 [==============================] - 0s 60us/step - loss: 0.2484 - accuracy: 0.9061\n",
            "Epoch 93/150\n",
            "181/181 [==============================] - 0s 62us/step - loss: 0.2485 - accuracy: 0.9061\n",
            "Epoch 94/150\n",
            "181/181 [==============================] - 0s 64us/step - loss: 0.2464 - accuracy: 0.9061\n",
            "Epoch 95/150\n",
            "181/181 [==============================] - 0s 75us/step - loss: 0.2463 - accuracy: 0.9061\n",
            "Epoch 96/150\n",
            "181/181 [==============================] - 0s 74us/step - loss: 0.2463 - accuracy: 0.9116\n",
            "Epoch 97/150\n",
            "181/181 [==============================] - 0s 60us/step - loss: 0.2452 - accuracy: 0.9116\n",
            "Epoch 98/150\n",
            "181/181 [==============================] - 0s 60us/step - loss: 0.2441 - accuracy: 0.9061\n",
            "Epoch 99/150\n",
            "181/181 [==============================] - 0s 60us/step - loss: 0.2440 - accuracy: 0.9061\n",
            "Epoch 100/150\n",
            "181/181 [==============================] - 0s 62us/step - loss: 0.2431 - accuracy: 0.9061\n",
            "Epoch 101/150\n",
            "181/181 [==============================] - 0s 59us/step - loss: 0.2424 - accuracy: 0.9116\n",
            "Epoch 102/150\n",
            "181/181 [==============================] - 0s 58us/step - loss: 0.2420 - accuracy: 0.9171\n",
            "Epoch 103/150\n",
            "181/181 [==============================] - 0s 56us/step - loss: 0.2416 - accuracy: 0.9171\n",
            "Epoch 104/150\n",
            "181/181 [==============================] - 0s 59us/step - loss: 0.2414 - accuracy: 0.9171\n",
            "Epoch 105/150\n",
            "181/181 [==============================] - 0s 58us/step - loss: 0.2419 - accuracy: 0.9116\n",
            "Epoch 106/150\n",
            "181/181 [==============================] - 0s 57us/step - loss: 0.2401 - accuracy: 0.9171\n",
            "Epoch 107/150\n",
            "181/181 [==============================] - 0s 66us/step - loss: 0.2394 - accuracy: 0.9116\n",
            "Epoch 108/150\n",
            "181/181 [==============================] - 0s 69us/step - loss: 0.2389 - accuracy: 0.9116\n",
            "Epoch 109/150\n",
            "181/181 [==============================] - 0s 68us/step - loss: 0.2385 - accuracy: 0.9171\n",
            "Epoch 110/150\n",
            "181/181 [==============================] - 0s 85us/step - loss: 0.2380 - accuracy: 0.9116\n",
            "Epoch 111/150\n",
            "181/181 [==============================] - 0s 70us/step - loss: 0.2378 - accuracy: 0.9171\n",
            "Epoch 112/150\n",
            "181/181 [==============================] - 0s 67us/step - loss: 0.2375 - accuracy: 0.9116\n",
            "Epoch 113/150\n",
            "181/181 [==============================] - 0s 69us/step - loss: 0.2372 - accuracy: 0.9171\n",
            "Epoch 114/150\n",
            "181/181 [==============================] - 0s 70us/step - loss: 0.2362 - accuracy: 0.9171\n",
            "Epoch 115/150\n",
            "181/181 [==============================] - 0s 67us/step - loss: 0.2362 - accuracy: 0.9171\n",
            "Epoch 116/150\n",
            "181/181 [==============================] - 0s 64us/step - loss: 0.2360 - accuracy: 0.9171\n",
            "Epoch 117/150\n",
            "181/181 [==============================] - 0s 68us/step - loss: 0.2349 - accuracy: 0.9171\n",
            "Epoch 118/150\n",
            "181/181 [==============================] - 0s 65us/step - loss: 0.2361 - accuracy: 0.9171\n",
            "Epoch 119/150\n",
            "181/181 [==============================] - 0s 64us/step - loss: 0.2343 - accuracy: 0.9171\n",
            "Epoch 120/150\n",
            "181/181 [==============================] - 0s 60us/step - loss: 0.2336 - accuracy: 0.9171\n",
            "Epoch 121/150\n",
            "181/181 [==============================] - 0s 54us/step - loss: 0.2333 - accuracy: 0.9171\n",
            "Epoch 122/150\n",
            "181/181 [==============================] - 0s 56us/step - loss: 0.2332 - accuracy: 0.9227\n",
            "Epoch 123/150\n",
            "181/181 [==============================] - 0s 58us/step - loss: 0.2325 - accuracy: 0.9227\n",
            "Epoch 124/150\n",
            "181/181 [==============================] - 0s 65us/step - loss: 0.2321 - accuracy: 0.9227\n",
            "Epoch 125/150\n",
            "181/181 [==============================] - 0s 63us/step - loss: 0.2322 - accuracy: 0.9227\n",
            "Epoch 126/150\n",
            "181/181 [==============================] - 0s 54us/step - loss: 0.2311 - accuracy: 0.9227\n",
            "Epoch 127/150\n",
            "181/181 [==============================] - 0s 71us/step - loss: 0.2328 - accuracy: 0.9171\n",
            "Epoch 128/150\n",
            "181/181 [==============================] - 0s 68us/step - loss: 0.2307 - accuracy: 0.9227\n",
            "Epoch 129/150\n",
            "181/181 [==============================] - 0s 57us/step - loss: 0.2305 - accuracy: 0.9227\n",
            "Epoch 130/150\n",
            "181/181 [==============================] - 0s 56us/step - loss: 0.2307 - accuracy: 0.9227\n",
            "Epoch 131/150\n",
            "181/181 [==============================] - 0s 53us/step - loss: 0.2298 - accuracy: 0.9227\n",
            "Epoch 132/150\n",
            "181/181 [==============================] - 0s 57us/step - loss: 0.2297 - accuracy: 0.9227\n",
            "Epoch 133/150\n",
            "181/181 [==============================] - 0s 67us/step - loss: 0.2294 - accuracy: 0.9227\n",
            "Epoch 134/150\n",
            "181/181 [==============================] - 0s 59us/step - loss: 0.2289 - accuracy: 0.9227\n",
            "Epoch 135/150\n",
            "181/181 [==============================] - 0s 58us/step - loss: 0.2281 - accuracy: 0.9227\n",
            "Epoch 136/150\n",
            "181/181 [==============================] - 0s 59us/step - loss: 0.2279 - accuracy: 0.9227\n",
            "Epoch 137/150\n",
            "181/181 [==============================] - 0s 55us/step - loss: 0.2280 - accuracy: 0.9227\n",
            "Epoch 138/150\n",
            "181/181 [==============================] - 0s 61us/step - loss: 0.2277 - accuracy: 0.9227\n",
            "Epoch 139/150\n",
            "181/181 [==============================] - 0s 64us/step - loss: 0.2272 - accuracy: 0.9227\n",
            "Epoch 140/150\n",
            "181/181 [==============================] - 0s 58us/step - loss: 0.2271 - accuracy: 0.9227\n",
            "Epoch 141/150\n",
            "181/181 [==============================] - 0s 61us/step - loss: 0.2262 - accuracy: 0.9227\n",
            "Epoch 142/150\n",
            "181/181 [==============================] - 0s 65us/step - loss: 0.2269 - accuracy: 0.9227\n",
            "Epoch 143/150\n",
            "181/181 [==============================] - 0s 65us/step - loss: 0.2261 - accuracy: 0.9227\n",
            "Epoch 144/150\n",
            "181/181 [==============================] - 0s 62us/step - loss: 0.2256 - accuracy: 0.9227\n",
            "Epoch 145/150\n",
            "181/181 [==============================] - 0s 54us/step - loss: 0.2258 - accuracy: 0.9227\n",
            "Epoch 146/150\n",
            "181/181 [==============================] - 0s 61us/step - loss: 0.2251 - accuracy: 0.9227\n",
            "Epoch 147/150\n",
            "181/181 [==============================] - 0s 57us/step - loss: 0.2245 - accuracy: 0.9227\n",
            "Epoch 148/150\n",
            "181/181 [==============================] - 0s 55us/step - loss: 0.2251 - accuracy: 0.9227\n",
            "Epoch 149/150\n",
            "181/181 [==============================] - 0s 57us/step - loss: 0.2244 - accuracy: 0.9227\n",
            "Epoch 150/150\n",
            "181/181 [==============================] - 0s 67us/step - loss: 0.2242 - accuracy: 0.9227\n"
          ],
          "name": "stdout"
        },
        {
          "output_type": "execute_result",
          "data": {
            "text/plain": [
              "<keras.callbacks.callbacks.History at 0x7fd1b4d92b38>"
            ]
          },
          "metadata": {
            "tags": []
          },
          "execution_count": 288
        }
      ]
    },
    {
      "cell_type": "code",
      "metadata": {
        "id": "RhU269ofKe4Q",
        "colab_type": "code",
        "colab": {}
      },
      "source": [
        "accuracy=model.evaluate(X_test,y_test,verbose=0)"
      ],
      "execution_count": 0,
      "outputs": []
    },
    {
      "cell_type": "code",
      "metadata": {
        "id": "rHtVTtP4MS0S",
        "colab_type": "code",
        "colab": {}
      },
      "source": [
        "y_pred=model.predict_classes(X_test)"
      ],
      "execution_count": 0,
      "outputs": []
    },
    {
      "cell_type": "code",
      "metadata": {
        "id": "akh4ORkZOPmh",
        "colab_type": "code",
        "colab": {}
      },
      "source": [
        "from sklearn.metrics import accuracy_score"
      ],
      "execution_count": 0,
      "outputs": []
    },
    {
      "cell_type": "code",
      "metadata": {
        "id": "CQPuSDGfP4Lh",
        "colab_type": "code",
        "colab": {
          "base_uri": "https://localhost:8080/",
          "height": 34
        },
        "outputId": "adac057e-d919-4079-8318-0eec838aec8f"
      },
      "source": [
        "accuracy_score(y_test,y_pred)"
      ],
      "execution_count": 292,
      "outputs": [
        {
          "output_type": "execute_result",
          "data": {
            "text/plain": [
              "0.819672131147541"
            ]
          },
          "metadata": {
            "tags": []
          },
          "execution_count": 292
        }
      ]
    },
    {
      "cell_type": "markdown",
      "metadata": {
        "id": "I1ydSguuRXH7",
        "colab_type": "text"
      },
      "source": [
        "**Linear Regression**"
      ]
    },
    {
      "cell_type": "code",
      "metadata": {
        "id": "6p-pYq6qP-vG",
        "colab_type": "code",
        "colab": {}
      },
      "source": [
        "from sklearn.linear_model import LogisticRegression"
      ],
      "execution_count": 0,
      "outputs": []
    },
    {
      "cell_type": "code",
      "metadata": {
        "id": "xmCsY9nSR9_-",
        "colab_type": "code",
        "colab": {}
      },
      "source": [
        "reg=LogisticRegression()"
      ],
      "execution_count": 0,
      "outputs": []
    },
    {
      "cell_type": "code",
      "metadata": {
        "id": "yaKMEOZCR_yQ",
        "colab_type": "code",
        "colab": {
          "base_uri": "https://localhost:8080/",
          "height": 102
        },
        "outputId": "ab18896f-00dd-433c-e604-de50979238f5"
      },
      "source": [
        "reg.fit(X_train,y_train)"
      ],
      "execution_count": 295,
      "outputs": [
        {
          "output_type": "execute_result",
          "data": {
            "text/plain": [
              "LogisticRegression(C=1.0, class_weight=None, dual=False, fit_intercept=True,\n",
              "                   intercept_scaling=1, l1_ratio=None, max_iter=100,\n",
              "                   multi_class='auto', n_jobs=None, penalty='l2',\n",
              "                   random_state=None, solver='lbfgs', tol=0.0001, verbose=0,\n",
              "                   warm_start=False)"
            ]
          },
          "metadata": {
            "tags": []
          },
          "execution_count": 295
        }
      ]
    },
    {
      "cell_type": "code",
      "metadata": {
        "id": "-vbQbqMbSFm6",
        "colab_type": "code",
        "colab": {
          "base_uri": "https://localhost:8080/",
          "height": 34
        },
        "outputId": "b2d32044-1422-40c7-fec7-c8342cbbd3ab"
      },
      "source": [
        "reg.score(X_test,y_test)"
      ],
      "execution_count": 296,
      "outputs": [
        {
          "output_type": "execute_result",
          "data": {
            "text/plain": [
              "0.8114754098360656"
            ]
          },
          "metadata": {
            "tags": []
          },
          "execution_count": 296
        }
      ]
    },
    {
      "cell_type": "markdown",
      "metadata": {
        "id": "Idl4tuUFUGD7",
        "colab_type": "text"
      },
      "source": [
        "**Support Vector Classifier**"
      ]
    },
    {
      "cell_type": "code",
      "metadata": {
        "id": "xC4v1ntoUmpP",
        "colab_type": "code",
        "colab": {}
      },
      "source": [
        "from sklearn.svm import SVC"
      ],
      "execution_count": 0,
      "outputs": []
    },
    {
      "cell_type": "code",
      "metadata": {
        "id": "aOhMEVJnSywu",
        "colab_type": "code",
        "colab": {}
      },
      "source": [
        "svc_scores=[]\n",
        "kernels=['linear','poly','rbf','sigmoid']"
      ],
      "execution_count": 0,
      "outputs": []
    },
    {
      "cell_type": "code",
      "metadata": {
        "id": "uPSsTO3WUtkp",
        "colab_type": "code",
        "colab": {}
      },
      "source": [
        "for i in range(len(kernels)):\n",
        "  svc_classifier=SVC(kernel=kernels[i])\n",
        "  svc_classifier.fit(X_train,y_train)\n",
        "  svc_scores.append(svc_classifier.score(X_test,y_test))"
      ],
      "execution_count": 0,
      "outputs": []
    },
    {
      "cell_type": "code",
      "metadata": {
        "id": "xb6yGt-LUyCs",
        "colab_type": "code",
        "colab": {
          "base_uri": "https://localhost:8080/",
          "height": 856
        },
        "outputId": "a4519df7-8952-4680-ac64-cf2ae4c68593"
      },
      "source": [
        "colors = rainbow(np.linspace(0, 1, len(kernels)))\n",
        "plt.bar(kernels, svc_scores, color = colors)\n",
        "for i in range(len(kernels)):\n",
        "    plt.text(i, svc_scores[i], svc_scores[i])\n",
        "plt.xlabel('Kernels')\n",
        "plt.ylabel('Scores')\n",
        "plt.title('Support Vector Classifier scores for different kernels')"
      ],
      "execution_count": 300,
      "outputs": [
        {
          "output_type": "execute_result",
          "data": {
            "text/plain": [
              "Text(0.5, 1.0, 'Support Vector Classifier scores for different kernels')"
            ]
          },
          "metadata": {
            "tags": []
          },
          "execution_count": 300
        },
        {
          "output_type": "display_data",
          "data": {
            "image/png": "[encoded data removed]",
            "text/plain": [
              "<Figure size 1440x1008 with 1 Axes>"
            ]
          },
          "metadata": {
            "tags": [],
            "needs_background": "light"
          }
        }
      ]
    },
    {
      "cell_type": "markdown",
      "metadata": {
        "id": "HWO990brZquV",
        "colab_type": "text"
      },
      "source": [
        "**CONCLUSION**\n",
        "\n",
        "Accuracy of the model using following ML Models\n",
        "\n",
        "\n",
        "*   Neural Network (Architecture:30-60-20-1) = 81.96%\n",
        "*   Linear Regression: 81.14%\n",
        "*   SVM (Kernels): \n",
        "               81.14% (Linear Kernel\n",
        "               81.14% (Poly kernel)\n",
        "               79.51% (rbf Kernel)\n",
        "               77.05% (Sigmoid Kernel)"
      ]
    },
    {
      "cell_type": "code",
      "metadata": {
        "id": "M0FmtGwkX8yU",
        "colab_type": "code",
        "colab": {}
      },
      "source": [
        ""
      ],
      "execution_count": 0,
      "outputs": []
    }
  ]
}